{
 "cells": [
  {
   "cell_type": "code",
   "execution_count": 21,
   "id": "9d5e790e",
   "metadata": {},
   "outputs": [],
   "source": [
    "class hash_fn:\n",
    "    def __init__(self):\n",
    "        self.max = 10\n",
    "        self.arr = [ None for i in range(self.max)]\n",
    "        \n",
    "    def get_hash(self, key):\n",
    "        h = 0\n",
    "        for char in key:\n",
    "            h += ord(char)\n",
    "        return h % self.max  \n",
    "    \n",
    "    def get_insert(self,key,value):\n",
    "        h = self.get_hash(key)\n",
    "        self.arr[h] = value\n",
    "        return\n",
    "    \n",
    "    def get_linear_probing(self, key, value):\n",
    "        h = self.get_hash(key)\n",
    "        print(len(self.arr))\n",
    "        try:\n",
    "            if self.arr[h] is None:\n",
    "                self.arr[h] = (key,value)\n",
    "            return\n",
    "            for i in range(h, len(self.arr)+1):\n",
    "                if self.arr[i] is None:\n",
    "                    self.arr[i] = (key, value)\n",
    "                    return \n",
    "        # in case if we need to return to the starting\n",
    "            if h == len(self.arr) -1:\n",
    "                for i in range(0,h):\n",
    "                    if self.arr[i] is None:\n",
    "                        self.arr[i] = (key, value)\n",
    "                        return \n",
    "        except:\n",
    "            print(\"Hash Map is Full\")\n",
    "        \n",
    "    def print_hash_array(self):\n",
    "        for i in self.arr:\n",
    "            print(i)\n",
    "        return\n",
    "    def del_hash_item(self, key):\n",
    "        h = get_hash(key)\n",
    "        self.arr[h] = None\n",
    "        return "
   ]
  },
  {
   "cell_type": "code",
   "execution_count": 18,
   "id": "2b7dcb4e",
   "metadata": {},
   "outputs": [
    {
     "data": {
      "text/plain": [
       "9"
      ]
     },
     "execution_count": 18,
     "metadata": {},
     "output_type": "execute_result"
    }
   ],
   "source": [
    "obj = hash_fn()\n",
    "obj.get_hash(\"march 6\")"
   ]
  },
  {
   "cell_type": "code",
   "execution_count": 19,
   "id": "f49c37b2",
   "metadata": {},
   "outputs": [
    {
     "data": {
      "text/plain": [
       "9"
      ]
     },
     "execution_count": 19,
     "metadata": {},
     "output_type": "execute_result"
    }
   ],
   "source": [
    "obj.get_hash(\"march 17\")"
   ]
  },
  {
   "cell_type": "code",
   "execution_count": 23,
   "id": "60cf419b",
   "metadata": {},
   "outputs": [
    {
     "name": "stdout",
     "output_type": "stream",
     "text": [
      "10\n",
      "10\n",
      "10\n",
      "10\n",
      "('19 january', 23)\n",
      "None\n",
      "None\n",
      "None\n",
      "None\n",
      "None\n",
      "('29 may', 113)\n",
      "None\n",
      "None\n",
      "('6 march', 213)\n"
     ]
    }
   ],
   "source": [
    "obj.get_linear_probing('march 6', 213)\n",
    "obj.get_linear_probing('19 january', 23)\n",
    "obj.get_linear_probing('29 may', 113)\n",
    "obj.get_linear_probing('march 17', 2178)\n",
    "obj.print_hash_array()"
   ]
  },
  {
   "cell_type": "code",
   "execution_count": null,
   "id": "a54af849",
   "metadata": {},
   "outputs": [],
   "source": []
  },
  {
   "cell_type": "code",
   "execution_count": null,
   "id": "cb5b9bc5",
   "metadata": {},
   "outputs": [],
   "source": []
  }
 ],
 "metadata": {
  "kernelspec": {
   "display_name": "Python 3 (ipykernel)",
   "language": "python",
   "name": "python3"
  },
  "language_info": {
   "codemirror_mode": {
    "name": "ipython",
    "version": 3
   },
   "file_extension": ".py",
   "mimetype": "text/x-python",
   "name": "python",
   "nbconvert_exporter": "python",
   "pygments_lexer": "ipython3",
   "version": "3.9.12"
  }
 },
 "nbformat": 4,
 "nbformat_minor": 5
}
