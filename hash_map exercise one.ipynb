{
 "cells": [
  {
   "cell_type": "markdown",
   "id": "ca16c49e",
   "metadata": {},
   "source": [
    "**CSV contains new york city weather for first few days in the month of January. Write a program that can answer following,\n",
    "    1. What was the average temperature in first week of Jan\n",
    "    1. What was the maximum temperature in first 10 days of Jan**\n",
    "\n",
    "## Figure out data structure that is best for this problem"
   ]
  },
  {
   "cell_type": "code",
   "execution_count": 19,
   "id": "49597f89",
   "metadata": {},
   "outputs": [
    {
     "name": "stdout",
     "output_type": "stream",
     "text": [
      "invalid character\n",
      "[27.0, 31.0, 23.0, 34.0, 37.0, 38.0, 29.0, 30.0, 35.0, 30.0]\n"
     ]
    }
   ],
   "source": [
    "temp_arr=[]\n",
    "with open (\"nyc_weather.csv\",'r') as f:\n",
    "    for line in f:\n",
    "        token = line.split(',')\n",
    "        date = token[0]\n",
    "        token1 = token[1].split('\\n')\n",
    "        try:\n",
    "            temp = float(token1[0])\n",
    "            temp_arr.append(temp)\n",
    "        except:\n",
    "            print(\"invalid character\")\n",
    "    print(temp_arr)    "
   ]
  },
  {
   "cell_type": "markdown",
   "id": "7b10bc9c",
   "metadata": {},
   "source": [
    "#   1.1 What was the average temperature in first week of Jan"
   ]
  },
  {
   "cell_type": "code",
   "execution_count": 21,
   "id": "9a10c47f",
   "metadata": {},
   "outputs": [
    {
     "name": "stdout",
     "output_type": "stream",
     "text": [
      "Average temperature in the 7 days 31.285714285714285\n"
     ]
    }
   ],
   "source": [
    "sum = 0\n",
    "for i in range(7):\n",
    "    sum += temp_arr[i]\n",
    "    \n",
    "print(\"Average temperature in the 7 days\", float(sum/7))    "
   ]
  },
  {
   "cell_type": "markdown",
   "id": "0aa909be",
   "metadata": {},
   "source": [
    " # 1.2 What was the maximum temperature in first 10 days of Jan"
   ]
  },
  {
   "cell_type": "code",
   "execution_count": 25,
   "id": "28d89d6b",
   "metadata": {},
   "outputs": [
    {
     "data": {
      "text/plain": [
       "38.0"
      ]
     },
     "execution_count": 25,
     "metadata": {},
     "output_type": "execute_result"
    }
   ],
   "source": [
    "max(temp_arr)"
   ]
  },
  {
   "cell_type": "markdown",
   "id": "01828ebf",
   "metadata": {},
   "source": [
    "# 1.3  best data structure\n",
    "**The best data structure for this is the list as we are dealing with the temperature only**"
   ]
  },
  {
   "cell_type": "markdown",
   "id": "8d50c323",
   "metadata": {},
   "source": [
    "# 2 Problem\n",
    "**Write a program that can answer following,\n",
    "    1. What was the temperature on Jan 9?\n",
    "    1. What was the temperature on Jan 4?**\n",
    "\n",
    "### Figure out data structure that is best for this problem"
   ]
  },
  {
   "cell_type": "code",
   "execution_count": 29,
   "id": "14f187bc",
   "metadata": {},
   "outputs": [
    {
     "name": "stdout",
     "output_type": "stream",
     "text": [
      "invalid data\n",
      "{'Jan 1': 27, 'Jan 2': 31, 'Jan 3': 23, 'Jan 4': 34, 'Jan 5': 37, 'Jan 6': 38, 'Jan 7': 29, 'Jan 8': 30, 'Jan 9': 35, 'Jan 10': 30}\n"
     ]
    }
   ],
   "source": [
    "temp_dict = {}\n",
    "with open (\"nyc_weather.csv\", 'r') as f:\n",
    "    for line in f:\n",
    "        token = line.split(\",\")\n",
    "        date = token[0]\n",
    "        token1 = token[1].split('\\n')\n",
    "        try:\n",
    "            temp = int(token1[0])\n",
    "            temp_dict[date] = temp\n",
    "        except:\n",
    "            print(\"invalid data\")\n",
    "    print(temp_dict)    "
   ]
  },
  {
   "cell_type": "code",
   "execution_count": 30,
   "id": "4b4205b9",
   "metadata": {},
   "outputs": [
    {
     "data": {
      "text/plain": [
       "35"
      ]
     },
     "execution_count": 30,
     "metadata": {},
     "output_type": "execute_result"
    }
   ],
   "source": [
    "temp_dict['Jan 9']"
   ]
  },
  {
   "cell_type": "code",
   "execution_count": 31,
   "id": "dc18a922",
   "metadata": {},
   "outputs": [
    {
     "data": {
      "text/plain": [
       "34"
      ]
     },
     "execution_count": 31,
     "metadata": {},
     "output_type": "execute_result"
    }
   ],
   "source": [
    "temp_dict['Jan 4']"
   ]
  },
  {
   "cell_type": "markdown",
   "id": "c498357b",
   "metadata": {},
   "source": [
    "### the best data structure for this is the dictionary bcz we want to get values on the basic of the dates"
   ]
  }
 ],
 "metadata": {
  "kernelspec": {
   "display_name": "Python 3 (ipykernel)",
   "language": "python",
   "name": "python3"
  },
  "language_info": {
   "codemirror_mode": {
    "name": "ipython",
    "version": 3
   },
   "file_extension": ".py",
   "mimetype": "text/x-python",
   "name": "python",
   "nbconvert_exporter": "python",
   "pygments_lexer": "ipython3",
   "version": "3.9.12"
  }
 },
 "nbformat": 4,
 "nbformat_minor": 5
}
