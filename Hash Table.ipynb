{
 "cells": [
  {
   "cell_type": "markdown",
   "id": "23ad87ea",
   "metadata": {},
   "source": [
    "# We can create 2 diamenionsal array here to store this type of data"
   ]
  },
  {
   "cell_type": "code",
   "execution_count": 1,
   "id": "3712a12f",
   "metadata": {},
   "outputs": [],
   "source": [
    "stock_price = []\n",
    "with open (\"stock_prices.csv\", \"r\") as f:\n",
    "    for line in f:\n",
    "        tokens = line.split(',')\n",
    "        days = tokens[0]\n",
    "        prices = tokens[1].split('\\n')\n",
    "        price = prices[0]\n",
    "        stock_price.append([days, price])"
   ]
  },
  {
   "cell_type": "code",
   "execution_count": 2,
   "id": "729ed0cc",
   "metadata": {},
   "outputs": [
    {
     "data": {
      "text/plain": [
       "[['march 6', '310'],\n",
       " ['march 7', '340'],\n",
       " ['march 8', '380'],\n",
       " ['march 9', '302'],\n",
       " ['march 10', '297'],\n",
       " ['march 11', '323']]"
      ]
     },
     "execution_count": 2,
     "metadata": {},
     "output_type": "execute_result"
    }
   ],
   "source": [
    "stock_price"
   ]
  },
  {
   "cell_type": "code",
   "execution_count": 3,
   "id": "92e8be20",
   "metadata": {},
   "outputs": [
    {
     "data": {
      "text/plain": [
       "['march 9', '302']"
      ]
     },
     "execution_count": 3,
     "metadata": {},
     "output_type": "execute_result"
    }
   ],
   "source": [
    "stock_price[3]"
   ]
  },
  {
   "cell_type": "markdown",
   "id": "1f9e2058",
   "metadata": {},
   "source": [
    "# First give the row number than the column number to access the values in 2D array"
   ]
  },
  {
   "cell_type": "code",
   "execution_count": 4,
   "id": "dda98f66",
   "metadata": {},
   "outputs": [
    {
     "data": {
      "text/plain": [
       "'march 9'"
      ]
     },
     "execution_count": 4,
     "metadata": {},
     "output_type": "execute_result"
    }
   ],
   "source": [
    "stock_price[3][0]"
   ]
  },
  {
   "cell_type": "markdown",
   "id": "a1367801",
   "metadata": {},
   "source": [
    "# Insert method in 2D array"
   ]
  },
  {
   "cell_type": "code",
   "execution_count": 5,
   "id": "e736f66b",
   "metadata": {},
   "outputs": [
    {
     "data": {
      "text/plain": [
       "[['march 6', '310'],\n",
       " ['march 7', '340'],\n",
       " ['march 23', 3422.0],\n",
       " ['march 8', '380'],\n",
       " ['march 9', '302'],\n",
       " ['march 10', '297'],\n",
       " ['march 11', '323']]"
      ]
     },
     "execution_count": 5,
     "metadata": {},
     "output_type": "execute_result"
    }
   ],
   "source": [
    "stock_price.insert(2, [\"march 23\", 3422.0])\n",
    "stock_price"
   ]
  },
  {
   "cell_type": "markdown",
   "id": "fc3d86e8",
   "metadata": {},
   "source": [
    "# Stock_price on a Specific Day\n",
    "<h3 style='color:purple'>Complexity of search using a list is O(n)</h3>"
   ]
  },
  {
   "cell_type": "code",
   "execution_count": 6,
   "id": "51995749",
   "metadata": {},
   "outputs": [
    {
     "name": "stdout",
     "output_type": "stream",
     "text": [
      "302\n"
     ]
    }
   ],
   "source": [
    "for i in stock_price:\n",
    "    if i[0] == 'march 9':\n",
    "        print(i[1])"
   ]
  },
  {
   "cell_type": "markdown",
   "id": "4e8596a2",
   "metadata": {},
   "source": [
    "# Now we will use python dictionary\n",
    "<h3 style='color:purple'>Complexity of search using a dictionary is is O(1)</h3>"
   ]
  },
  {
   "cell_type": "code",
   "execution_count": 7,
   "id": "68c4799c",
   "metadata": {},
   "outputs": [],
   "source": [
    "stock_prices_dict = {}\n",
    "with open (\"stock_prices.csv\", 'r') as f:\n",
    "    for line in f:\n",
    "        tokens = line.split(\",\")\n",
    "        days = tokens[0]\n",
    "        prices = float(tokens[1].split('\\n')[0])\n",
    "        stock_prices_dict[days] = prices\n",
    "        "
   ]
  },
  {
   "cell_type": "code",
   "execution_count": 8,
   "id": "843d5e61",
   "metadata": {},
   "outputs": [
    {
     "data": {
      "text/plain": [
       "{'march 6': 310.0,\n",
       " 'march 7': 340.0,\n",
       " 'march 8': 380.0,\n",
       " 'march 9': 302.0,\n",
       " 'march 10': 297.0,\n",
       " 'march 11': 323.0}"
      ]
     },
     "execution_count": 8,
     "metadata": {},
     "output_type": "execute_result"
    }
   ],
   "source": [
    "stock_prices_dict"
   ]
  },
  {
   "cell_type": "code",
   "execution_count": 9,
   "id": "46af10a8",
   "metadata": {},
   "outputs": [
    {
     "data": {
      "text/plain": [
       "302.0"
      ]
     },
     "execution_count": 9,
     "metadata": {},
     "output_type": "execute_result"
    }
   ],
   "source": [
    "stock_prices_dict['march 9']"
   ]
  },
  {
   "cell_type": "markdown",
   "id": "ae675613",
   "metadata": {},
   "source": [
    "# Hash Function Implementation\n",
    "### In order to get hash, we need to sum the ASCII code of each character present in the key and than we take the modulus "
   ]
  },
  {
   "cell_type": "code",
   "execution_count": 10,
   "id": "45197b4e",
   "metadata": {},
   "outputs": [],
   "source": [
    "class hash_fn:\n",
    "    def __init__(self):\n",
    "        # here we first define the size of the array\n",
    "        # than assign None in the array of size of max \n",
    "        self.max = 100\n",
    "        self.arr = [ None for i in range(self.max)]\n",
    "        \n",
    "    def get_hash(self, key):\n",
    "        h = 0\n",
    "        for char in key:\n",
    "            h += ord(char)\n",
    "        return h % self.max  \n",
    "    def get_insert(self,key,value):\n",
    "        h = self.get_hash(key)\n",
    "        self.arr[h] = value\n",
    "        return\n",
    "    def print_hash_array(self):\n",
    "        for i in self.arr:\n",
    "            print(i)\n",
    "        return\n",
    "    def del_hash_atom(self, key):\n",
    "        h = get_hash(key)\n",
    "        self.arr[h] = None\n",
    "        return \n",
    "            "
   ]
  },
  {
   "cell_type": "code",
   "execution_count": 11,
   "id": "e0f6d671",
   "metadata": {},
   "outputs": [
    {
     "name": "stdout",
     "output_type": "stream",
     "text": [
      "23\n",
      "None\n",
      "None\n",
      "None\n",
      "None\n",
      "None\n",
      "None\n",
      "None\n",
      "None\n",
      "None\n",
      "None\n",
      "None\n",
      "213\n",
      "None\n",
      "None\n",
      "None\n",
      "None\n",
      "None\n",
      "None\n",
      "None\n",
      "None\n",
      "None\n",
      "None\n",
      "None\n",
      "None\n",
      "None\n",
      "None\n",
      "None\n",
      "None\n",
      "None\n",
      "None\n",
      "None\n",
      "None\n",
      "None\n",
      "None\n",
      "None\n",
      "None\n",
      "None\n",
      "None\n",
      "None\n",
      "None\n",
      "None\n",
      "None\n",
      "None\n",
      "None\n",
      "None\n",
      "None\n",
      "None\n",
      "None\n",
      "None\n",
      "None\n",
      "None\n",
      "None\n",
      "None\n",
      "None\n",
      "None\n",
      "None\n",
      "None\n",
      "None\n",
      "None\n",
      "2178\n",
      "None\n",
      "None\n",
      "None\n",
      "None\n",
      "None\n",
      "113\n",
      "None\n",
      "None\n",
      "None\n",
      "None\n",
      "None\n",
      "None\n",
      "None\n",
      "None\n",
      "None\n",
      "None\n",
      "None\n",
      "None\n",
      "None\n",
      "None\n",
      "None\n",
      "None\n",
      "None\n",
      "None\n",
      "None\n",
      "None\n",
      "None\n",
      "None\n",
      "None\n",
      "None\n",
      "None\n",
      "None\n",
      "None\n",
      "None\n",
      "None\n",
      "None\n",
      "None\n",
      "None\n",
      "None\n"
     ]
    }
   ],
   "source": [
    "obj = hash_fn()\n",
    "obj.get_hash('9 march')\n",
    "obj.get_insert('9 march', 213)\n",
    "obj.get_insert('19 january', 23)\n",
    "obj.get_insert('29 may', 113)\n",
    "obj.get_insert('18 march', 2178)\n",
    "obj.print_hash_array()"
   ]
  },
  {
   "cell_type": "code",
   "execution_count": null,
   "id": "85be0ab1",
   "metadata": {},
   "outputs": [],
   "source": []
  },
  {
   "cell_type": "code",
   "execution_count": null,
   "id": "567d127a",
   "metadata": {},
   "outputs": [],
   "source": []
  }
 ],
 "metadata": {
  "kernelspec": {
   "display_name": "Python 3 (ipykernel)",
   "language": "python",
   "name": "python3"
  },
  "language_info": {
   "codemirror_mode": {
    "name": "ipython",
    "version": 3
   },
   "file_extension": ".py",
   "mimetype": "text/x-python",
   "name": "python",
   "nbconvert_exporter": "python",
   "pygments_lexer": "ipython3",
   "version": "3.9.12"
  }
 },
 "nbformat": 4,
 "nbformat_minor": 5
}
